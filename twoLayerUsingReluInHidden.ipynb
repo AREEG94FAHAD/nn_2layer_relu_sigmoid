{
 "cells": [
  {
   "cell_type": "markdown",
   "id": "d29dfe8b",
   "metadata": {},
   "source": [
    "# Neural Network with two layer (Relu, sigmoid)"
   ]
  },
  {
   "cell_type": "markdown",
   "id": "dbc4d815",
   "metadata": {},
   "source": [
    "A neural network with two layers (Relu and Sigmoid). This experiment can be applied of any dataset."
   ]
  },
  {
   "cell_type": "markdown",
   "id": "7384079a",
   "metadata": {},
   "source": [
    "## A. Design the System "
   ]
  },
  {
   "cell_type": "markdown",
   "id": "3f309d1f",
   "metadata": {},
   "source": [
    "1. Initialize the layer size. This experiment has two layers. "
   ]
  },
  {
   "cell_type": "code",
   "execution_count": 1,
   "id": "4296d73d",
   "metadata": {},
   "outputs": [],
   "source": [
    "def layer_sizes(X, Y):\n",
    "    \"\"\"\n",
    "    Argument:\n",
    "    X: The dataset (number of feactures, number of examples)\n",
    "    Y: labels of shape (output size, number of examples) # because the sigmoid is used , the output shape is (1, m)\n",
    "\n",
    "    Return:\n",
    "    n_x -- Number of features in one example\n",
    "    n_h -- Number of units in first layer\n",
    "    n_y -- Number of units in output layer (sigmoid = 1)\n",
    "    \"\"\"\n",
    "    n_x = X.shape[0]\n",
    "    n_y = Y.shape[0]\n",
    "\n",
    "    return n_x, n_y"
   ]
  },
  {
   "cell_type": "markdown",
   "id": "de1aeb55",
   "metadata": {},
   "source": [
    "2. Initialize the parameters (weights, bias)"
   ]
  },
  {
   "cell_type": "code",
   "execution_count": 2,
   "id": "31976a85",
   "metadata": {},
   "outputs": [],
   "source": [
    "def initialize_parameters(n_x, n_h, n_y):\n",
    "    \"\"\"\n",
    "    Argument: \n",
    "    n_x -- Number of features in one example\n",
    "    n_h -- Number of units in first layer\n",
    "    n_y -- Number of units in output layer (sigmoid = 1)\n",
    "\n",
    "    Return:\n",
    "    W1: Weight matrix for layer one with a shape of (n_h, n_x).\n",
    "    b1: Bais vector of (n_h, 1) shape.\n",
    "    W2: Weight matrix for layer two with a shape of (n_y, n_h)\n",
    "    b1: Bais vector of (n_y, 1) shape. \n",
    "    \"\"\"\n",
    "    np.random.seed(1)\n",
    "    W1 = np.random.randn(n_h, n_x) * 0.01\n",
    "    b1 = 0.0\n",
    "    W2 = np.random.randn(n_y, n_h) * 0.01\n",
    "    b2 = 0.0\n",
    "\n",
    "    parameters = {\n",
    "        \"W1\":W1,\n",
    "        \"b1\":b1,\n",
    "        \"W2\":W2,\n",
    "        \"b2\":b2\n",
    "    }\n",
    "    return parameters"
   ]
  },
  {
   "cell_type": "markdown",
   "id": "436bf7a7",
   "metadata": {},
   "source": [
    "3. Sigmoid function"
   ]
  },
  {
   "cell_type": "code",
   "execution_count": 3,
   "id": "45627a74",
   "metadata": {},
   "outputs": [],
   "source": [
    "def sigmoid(Z):\n",
    "\n",
    "    A = 1/(1 + np.exp(-Z))\n",
    "\n",
    "    return A"
   ]
  },
  {
   "cell_type": "markdown",
   "id": "14578882",
   "metadata": {},
   "source": [
    "4. Relu function"
   ]
  },
  {
   "cell_type": "code",
   "execution_count": 4,
   "id": "4eac60c7",
   "metadata": {},
   "outputs": [],
   "source": [
    "def relu(Z):\n",
    "    \n",
    "    A = np.maximum(0,Z)\n",
    "    \n",
    "    return A"
   ]
  },
  {
   "cell_type": "markdown",
   "id": "062c2716",
   "metadata": {},
   "source": [
    "5. Derivative of the sigmoid function"
   ]
  },
  {
   "cell_type": "code",
   "execution_count": 5,
   "id": "9fab1b35",
   "metadata": {},
   "outputs": [],
   "source": [
    "def der_sigmoid(z):\n",
    "    \n",
    "    s = 1/(1 + np.exp(-Z))\n",
    "    \n",
    "    dZ = s * (1-s)\n",
    "    \n",
    "    return dZ"
   ]
  },
  {
   "cell_type": "markdown",
   "id": "70fc22a6",
   "metadata": {},
   "source": [
    "6. Derivative of the Relu function"
   ]
  },
  {
   "cell_type": "code",
   "execution_count": 6,
   "id": "5aa63c81",
   "metadata": {},
   "outputs": [],
   "source": [
    "def der_relu(Z):\n",
    "    \n",
    "    dZ = np.where(Z <= 0, 0, 1)\n",
    "    \n",
    "    return dZ\n",
    "    "
   ]
  },
  {
   "cell_type": "markdown",
   "id": "26200261",
   "metadata": {},
   "source": [
    "7. Forward Propagation $Z_1 -> A_1 -> Z_2 -> A_2$ "
   ]
  },
  {
   "cell_type": "code",
   "execution_count": 7,
   "id": "d2d059bd",
   "metadata": {},
   "outputs": [],
   "source": [
    "def forward_propagation(X, parameters):\n",
    "    \"\"\"\n",
    "    Argument:\n",
    "    X: the dataset\n",
    "    parameters: a Python dictionary containing all of the weights and baises\n",
    "    n_h is the number of hidden layers.\n",
    "\n",
    "    Return: \n",
    "    A: activation function results\n",
    "    cache: a dictionary containing \"Z1\", \"A1\", \"Z2\", and \"A2\" is used in the backpropagation stage.\n",
    "    \"\"\"\n",
    "\n",
    "    W1 = parameters['W1']\n",
    "    b1 = parameters['b1']\n",
    "    W2 = parameters['W2']\n",
    "    b2 = parameters['b2']\n",
    "\n",
    "    Z1 = np.dot(W1, X) + b1\n",
    "    A1 = relu(Z1)\n",
    "    Z2 = np.dot(W2, A1) + b2\n",
    "    A2 = sigmoid(Z2)\n",
    "\n",
    "    cache = {\"Z1\": Z1,\n",
    "             \"A1\": A1,\n",
    "             \"Z2\": Z2,\n",
    "             \"A2\": A2}\n",
    "\n",
    "    return A2, cache"
   ]
  },
  {
   "cell_type": "markdown",
   "id": "c0001976",
   "metadata": {},
   "source": [
    "8. Compute the cost $(A_2, Y)$"
   ]
  },
  {
   "cell_type": "code",
   "execution_count": 8,
   "id": "d9ac7cbf",
   "metadata": {},
   "outputs": [],
   "source": [
    "def compute_cost(A2, Y):\n",
    "    \"\"\"\n",
    "    Argument:\n",
    "    A2: output of last layer \n",
    "    Y: actual output\n",
    "\n",
    "    Return:\n",
    "    cost: cross-entropy cost \n",
    "    \"\"\"\n",
    "\n",
    "    # Number of examples\n",
    "    m = Y.shape[1]\n",
    "\n",
    "    cost = logprobs = np.multiply(np.log(A2), Y) + np.multiply(np.log(1 - A2), 1-Y)\n",
    "    cost = -np.sum(logprobs) / m\n",
    "    cost = np.squeeze(cost)\n",
    "\n",
    "    return cost"
   ]
  },
  {
   "cell_type": "markdown",
   "id": "d45de034",
   "metadata": {},
   "source": [
    "9. Back Propagation $(dA_2 -> dZ_2 -> (dW_2, db_2) -> dA_1 - dZ_1 -> (dW_1, db_1)  )$"
   ]
  },
  {
   "cell_type": "code",
   "execution_count": 9,
   "id": "024b3096",
   "metadata": {},
   "outputs": [],
   "source": [
    "def backpropagation(parameters, cache, X, Y):\n",
    "    \"\"\"\n",
    "    Argument:\n",
    "    parameters: A Python dictionary containing all weights and biases\n",
    "    caches: a Python dictionary contains Z1, A1, Z2, and A2.    \n",
    "    X: dataset     \n",
    "    Y: actual output\n",
    "\n",
    "    Return:\n",
    "\n",
    "    grads -- python dictionary containing your gradients with respect to different parameters\n",
    "    \"\"\"\n",
    "\n",
    "    m = X.shape[1]\n",
    "\n",
    "    W1 = parameters[\"W1\"]\n",
    "    W2 = parameters[\"W2\"]\n",
    "    \n",
    "    A1 = cache['A1']\n",
    "    A2 = cache['A2']\n",
    "\n",
    "    # dJ/dz = dj/da2 . da2/dz2 = A2-y\n",
    "    dZ2 = A2 - Y\n",
    "\n",
    "    # dJ/dw2 = dj/dz2. dz2/dw2 = dZ2 . ((A1.T) = X2)\n",
    "    dW2 = np.dot(dZ2, A1.T) / m\n",
    "\n",
    "    # dJ/db2 = dj/dz2. dz2/db2 = 1/m(dZ2 . 1)\n",
    "    db2 = np.sum(dZ2, axis=1, keepdims=True) / m\n",
    "\n",
    "    # dJ/dZ1 = dJ/dA1 . dA1/dZ1 = (1-A1)**2\n",
    "    # Where dJ/dA1 Z2= w2A2+b\n",
    "    \n",
    "    # dJ/dA1 \n",
    "    \n",
    "    b1 = parameters['b1']\n",
    "    Z1 = np.dot(W1, X) + b1\n",
    "    \n",
    "    \n",
    "    \n",
    "    dZ1dA1 = der_relu(Z1) \n",
    "     \n",
    "    \n",
    "    b2 = parameters['b2'] \n",
    "    Z2 = np.dot(W2, A1) + b2\n",
    "    \n",
    "#     dA1 = np.dot(W2.T, dZ2) * dZ1dA1\n",
    "    \n",
    "  \n",
    "    dZ1 = np.dot(W2.T ,dZ2) * dZ1dA1\n",
    "\n",
    "    # dJ/dW1 = dJ/dZ1 . dZ1/dW1 = dZ1.X1\n",
    "    dW1 = np.dot(dZ1, X.T) / m\n",
    "\n",
    "    # dJ/db1 = dJ/dZ1 . dZ1/db1 = dZ1.1\n",
    "    db1 = np.sum(dZ1, axis=1, keepdims=True) / m\n",
    "\n",
    "    grads = {\n",
    "        \"dW1\": dW1,\n",
    "        \"db1\": db1,\n",
    "        \"dW2\": dW2,\n",
    "        \"db2\": db2\n",
    "    }\n",
    "\n",
    "    return grads"
   ]
  },
  {
   "cell_type": "markdown",
   "id": "5d727fdd",
   "metadata": {},
   "source": [
    "10. Update the parameters $(W_1,b_1, W_2, b_2)$"
   ]
  },
  {
   "cell_type": "code",
   "execution_count": 10,
   "id": "95d0fb66",
   "metadata": {},
   "outputs": [],
   "source": [
    "def update_prameters(parameters, grads, learning_rate=0.0075):\n",
    "    \"\"\"\n",
    "    Argument: \n",
    "    parameters: A Python dictionary containing all weights and biases\n",
    "    grads: python dictionary containing your gradients with respect to different parameters\n",
    "\n",
    "    Return:\n",
    "\n",
    "    parameters: python dictionary containing your updated parameters \n",
    "\n",
    "    \"\"\"\n",
    "\n",
    "    W1 = parameters[\"W1\"]\n",
    "    b1 = parameters[\"b1\"]\n",
    "    W2 = parameters[\"W2\"]\n",
    "    b2 = parameters[\"b2\"]\n",
    "\n",
    "    dW1 = grads[\"dW1\"]\n",
    "    db1 = grads[\"db1\"]\n",
    "    dW2 = grads[\"dW2\"]\n",
    "    db2 = grads[\"db2\"]\n",
    "\n",
    "    W1 = W1 - learning_rate * dW1\n",
    "    b1 = b1 - learning_rate * db1\n",
    "    W2 = W2 - learning_rate * dW2\n",
    "    b2 = b2 - learning_rate * db2\n",
    "\n",
    "    parameters = {\"W1\": W1,\n",
    "                  \"b1\": b1,\n",
    "                  \"W2\": W2,\n",
    "                  \"b2\": b2}\n",
    "\n",
    "    return parameters"
   ]
  },
  {
   "cell_type": "markdown",
   "id": "51e5e670",
   "metadata": {},
   "source": [
    "11. The whole model"
   ]
  },
  {
   "cell_type": "code",
   "execution_count": 11,
   "id": "92ff9d29",
   "metadata": {},
   "outputs": [],
   "source": [
    "def nn_model(X, Y, n_h, num_iterations=10000, print_cost=False):\n",
    "    \"\"\"\n",
    "    Argument:\n",
    "    X: Dataset\n",
    "    Y: Actual output\n",
    "    n_h: number of units in first layer\n",
    "    num_iterations\n",
    "    print_cost:\n",
    "\n",
    "\n",
    "    Return:\n",
    "    parameters: parameters learnt by the model. They can then be used to predict\n",
    "    \"\"\"\n",
    "    np.random.seed(3)\n",
    "    n_x, n_y = layer_sizes(X, Y)\n",
    "    \n",
    "    \n",
    "    np.random.seed(1)\n",
    "    parameters = initialize_parameters(n_x, n_h, n_y)\n",
    "    \n",
    "    for i in range(num_iterations):\n",
    "        \n",
    "        A2, cache = forward_propagation(X, parameters)\n",
    "\n",
    "        cost = compute_cost(A2, Y)\n",
    "\n",
    "        grads = backpropagation(parameters, cache, X, Y)\n",
    "\n",
    "        parameters = update_prameters(parameters, grads)\n",
    "        \n",
    "        if i % 1000 == 0 and print_cost:\n",
    "            print(\"Cost after iteration %i: %f\" %(i, cost))\n",
    "\n",
    "    return parameters"
   ]
  },
  {
   "cell_type": "markdown",
   "id": "94458360",
   "metadata": {},
   "source": [
    "12. Use the parameters to compute the accuracy. "
   ]
  },
  {
   "cell_type": "code",
   "execution_count": 12,
   "id": "26af349f",
   "metadata": {},
   "outputs": [],
   "source": [
    "def predict(parameters, X, Y):\n",
    "    \n",
    "    A2, cache = forward_propagation(X, parameters)\n",
    "\n",
    "    predictions = A2 > 0.5\n",
    "\n",
    "    count = 0\n",
    "    exmaple_num = X.shape[1]\n",
    "    \n",
    "    for i in range(exmaple_num):\n",
    "        if predictions[0, i] == Y[0, i]:\n",
    "            count += 1\n",
    "\n",
    "    accuracy = count / exmaple_num\n",
    "\n",
    "    return accuracy, predictions"
   ]
  },
  {
   "cell_type": "markdown",
   "id": "68e60c29",
   "metadata": {},
   "source": [
    "## B. Test the system"
   ]
  },
  {
   "cell_type": "markdown",
   "id": "226de1c1",
   "metadata": {},
   "source": [
    "13. Load the dataset to determine whether an image is of a cat or not"
   ]
  },
  {
   "cell_type": "code",
   "execution_count": 13,
   "id": "f4a4dbf1",
   "metadata": {},
   "outputs": [],
   "source": [
    "import numpy as np\n",
    "import h5py\n",
    "    \n",
    "def load_dataset():\n",
    "    \n",
    "    # load the training data from train_catvnoncat.h5 file\n",
    "    \n",
    "    train_dataset = h5py.File('datasets/train_catvnoncat.h5', \"r\")\n",
    "    train_set_x_orig = np.array(train_dataset[\"train_set_x\"][:]) # your train set features\n",
    "    train_set_y_orig = np.array(train_dataset[\"train_set_y\"][:]) # your train set labels\n",
    "\n",
    "    # load the test data from test_catvnoncat.h5 file\n",
    "    \n",
    "    test_dataset = h5py.File('datasets/test_catvnoncat.h5', \"r\")\n",
    "    test_set_x_orig = np.array(test_dataset[\"test_set_x\"][:]) # your test set features\n",
    "    test_set_y_orig = np.array(test_dataset[\"test_set_y\"][:]) # your test set labels\n",
    "\n",
    "    classes = np.array(test_dataset[\"list_classes\"][:]) # the list of classes\n",
    "    \n",
    "    # train_set_y_orig.shape = (209,)\n",
    "    train_set_y_orig = train_set_y_orig.reshape((1, train_set_y_orig.shape[0]))\n",
    "    # train_set_y_orig.shape = (1,209)\n",
    "    test_set_y_orig = test_set_y_orig.reshape((1, test_set_y_orig.shape[0]))\n",
    "    \n",
    "    return train_set_x_orig, train_set_y_orig, test_set_x_orig, test_set_y_orig, classes"
   ]
  },
  {
   "cell_type": "code",
   "execution_count": 14,
   "id": "3ec494b1",
   "metadata": {},
   "outputs": [],
   "source": [
    "train_set_x_orig, train_set_y, test_set_x_orig, test_set_y, classes = load_dataset()\n",
    "\n",
    "num_of_sample, width_of_image, heigh_of_image, channel = train_set_x_orig.shape\n",
    "\n",
    "# Convert (209, 64, 64, 3) to (209, 12288)\n",
    "train_set_x_flatten = train_set_x_orig.reshape(num_of_sample, width_of_image*heigh_of_image*channel)\n",
    "\n",
    "# Convert (209, 12288) to (12288, 209) and normalization\n",
    "train_set_x = train_set_x_flatten.T / 255."
   ]
  },
  {
   "cell_type": "markdown",
   "id": "b1b06bba",
   "metadata": {},
   "source": [
    "14. Improve the weights"
   ]
  },
  {
   "cell_type": "code",
   "execution_count": 15,
   "id": "86e6d30f",
   "metadata": {},
   "outputs": [
    {
     "name": "stdout",
     "output_type": "stream",
     "text": [
      "Cost after iteration 0: 0.695386\n",
      "Cost after iteration 1000: 0.331197\n",
      "Cost after iteration 2000: 0.051989\n",
      "Cost after iteration 3000: 0.019421\n",
      "Cost after iteration 4000: 0.010584\n",
      "Cost after iteration 5000: 0.006932\n",
      "Cost after iteration 6000: 0.005030\n",
      "Cost after iteration 7000: 0.003891\n",
      "Cost after iteration 8000: 0.003143\n",
      "Cost after iteration 9000: 0.002620\n"
     ]
    }
   ],
   "source": [
    "parameters = nn_model(train_set_x, train_set_y, n_h = 8, num_iterations = 10000, print_cost=True)"
   ]
  },
  {
   "cell_type": "markdown",
   "id": "a533bea9",
   "metadata": {},
   "source": [
    "15. Calculate the accuracy of the training set."
   ]
  },
  {
   "cell_type": "code",
   "execution_count": 16,
   "id": "256e79d4",
   "metadata": {},
   "outputs": [
    {
     "name": "stdout",
     "output_type": "stream",
     "text": [
      "The accuracy of the training example 100.0 %\n"
     ]
    }
   ],
   "source": [
    "training_examples_accuracy = predict(parameters, train_set_x, train_set_y)[0]\n",
    "print(\"The accuracy of the training example\", training_examples_accuracy * 100, \"%\")"
   ]
  },
  {
   "cell_type": "markdown",
   "id": "4c7b93fa",
   "metadata": {},
   "source": [
    "16. Calculate the accuracy of the test set."
   ]
  },
  {
   "cell_type": "code",
   "execution_count": 17,
   "id": "5e1f2a02",
   "metadata": {},
   "outputs": [],
   "source": [
    "num_of_sample, width_of_image, heigh_of_image, channel = test_set_x_orig.shape\n",
    "\n",
    "# Convert (50, 64, 64, 3) to (50, 12288)\n",
    "test_set_x_orig_flatten = test_set_x_orig.reshape(num_of_sample, width_of_image*heigh_of_image*channel)\n",
    "\n",
    "# Convert (50, 12288) to (12288, 50) and normalization \n",
    "test_set_x = test_set_x_orig_flatten.T / 255."
   ]
  },
  {
   "cell_type": "code",
   "execution_count": 18,
   "id": "73f34ba8",
   "metadata": {},
   "outputs": [
    {
     "name": "stdout",
     "output_type": "stream",
     "text": [
      "The accuracy of the training example 74.0 %\n"
     ]
    }
   ],
   "source": [
    "test_examples_accuracy = predict(parameters, test_set_x, test_set_y)[0]\n",
    "print(\"The accuracy of the training example\", test_examples_accuracy * 100, \"%\")"
   ]
  },
  {
   "cell_type": "code",
   "execution_count": 32,
   "id": "f5189e14",
   "metadata": {},
   "outputs": [
    {
     "name": "stdout",
     "output_type": "stream",
     "text": [
      " This image does not contain a cat.\n"
     ]
    },
    {
     "data": {
      "image/png": "[encoded data removed]",
      "text/plain": [
       "<Figure size 640x480 with 1 Axes>"
      ]
     },
     "metadata": {},
     "output_type": "display_data"
    }
   ],
   "source": [
    "# The system accepts only shapes in the form of (112288, for example).\n",
    "# As a result, the single example must be converted to (number of features , number of examples). \n",
    "\n",
    "import random\n",
    "index = random.randint(0, 208)\n",
    "\n",
    "import matplotlib.pyplot as plt\n",
    "plt.imshow(train_set_x_orig[index])\n",
    "\n",
    "image = train_set_x[:, index].reshape(-1, 1)\n",
    "image_y = train_set_y[:, index].reshape(-1, 1)\n",
    "\n",
    "im = predict(parameters, image, image_y)\n",
    "\n",
    "if im[1][0][0]:\n",
    "    print(\" This image contains a cat. \")\n",
    "else:\n",
    "    print(\" This image does not contain a cat.\")\n",
    "    \n",
    "\n",
    "# print(train_set_y.shape)"
   ]
  }
 ],
 "metadata": {
  "kernelspec": {
   "display_name": "Python 3 (ipykernel)",
   "language": "python",
   "name": "python3"
  },
  "language_info": {
   "codemirror_mode": {
    "name": "ipython",
    "version": 3
   },
   "file_extension": ".py",
   "mimetype": "text/x-python",
   "name": "python",
   "nbconvert_exporter": "python",
   "pygments_lexer": "ipython3",
   "version": "3.9.13"
  }
 },
 "nbformat": 4,
 "nbformat_minor": 5
}
